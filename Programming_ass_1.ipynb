{
 "cells": [
  {
   "cell_type": "code",
   "execution_count": 1,
   "metadata": {},
   "outputs": [],
   "source": []
  },
  {
   "cell_type": "code",
   "execution_count": 2,
   "metadata": {},
   "outputs": [
    {
     "name": "stdout",
     "output_type": "stream",
     "text": [
      "Hello Python\n"
     ]
    }
   ],
   "source": [
    "#Write a Python program to print \"Hello Python\"?\n",
    "\n",
    "print(\"Hello Python\")\n"
   ]
  },
  {
   "cell_type": "code",
   "execution_count": 5,
   "metadata": {},
   "outputs": [
    {
     "name": "stdout",
     "output_type": "stream",
     "text": [
      "enter number 1: 3\n",
      "enter number 2: 4\n",
      " The div of 3 and 4 is 7.0 \n",
      " The div of 3 and 4 is 0.75 \n"
     ]
    }
   ],
   "source": [
    "#Write a Python program to do arithmetical operations addition and division.?\n",
    "\n",
    "number1 = input(\"enter number 1: \")\n",
    "number2 = input(\"enter number 2: \")\n",
    "sum = float(number1) + float(number2)\n",
    "div = float(number1) / float(number2)\n",
    "print(' The div of {0} and {1} is {2} '.format(number1,number2, sum))\n",
    "print(' The div of {0} and {1} is {2} '.format(number1,number2, div))\n"
   ]
  },
  {
   "cell_type": "code",
   "execution_count": 12,
   "metadata": {},
   "outputs": [
    {
     "name": "stdout",
     "output_type": "stream",
     "text": [
      "Enter first side: 3\n",
      "Enter second side: 3\n",
      "Enter first side: 3\n",
      "Area of triangle 15.19\n"
     ]
    }
   ],
   "source": [
    "#Write a Python program to find the area of a triangle?\n",
    "a= float(input('Enter first side: '))\n",
    "b= float(input('Enter second side: '))\n",
    "c= float(input('Enter first side: '))\n",
    "s= ( a+ b+ c) * 0.5\n",
    "area = (s*(s-a)*(s-b)*(s-c))\n",
    "print('Area of triangle %0.2' %area)"
   ]
  },
  {
   "cell_type": "markdown",
   "metadata": {},
   "source": []
  },
  {
   "cell_type": "code",
   "execution_count": 14,
   "metadata": {},
   "outputs": [
    {
     "name": "stdout",
     "output_type": "stream",
     "text": [
      "The value of x: 8\n",
      "The value of y: 3\n"
     ]
    }
   ],
   "source": [
    "#write a program to swap two values\n",
    "\n",
    "x = 3\n",
    "y = 8\n",
    "temp = x\n",
    "x = y\n",
    "y = temp\n",
    "print('The value of x: {}'.format(x))\n",
    "print('The value of y: {}'.format(y))"
   ]
  },
  {
   "cell_type": "code",
   "execution_count": 17,
   "metadata": {},
   "outputs": [
    {
     "name": "stdout",
     "output_type": "stream",
     "text": [
      "14\n"
     ]
    }
   ],
   "source": [
    "#Write a Python program to generate a random number?\n",
    "\n",
    "import random\n",
    "print(random.randint(0,22))"
   ]
  },
  {
   "cell_type": "code",
   "execution_count": null,
   "metadata": {},
   "outputs": [],
   "source": []
  }
 ],
 "metadata": {
  "kernelspec": {
   "display_name": "Python 3",
   "language": "python",
   "name": "python3"
  },
  "language_info": {
   "codemirror_mode": {
    "name": "ipython",
    "version": 3
   },
   "file_extension": ".py",
   "mimetype": "text/x-python",
   "name": "python",
   "nbconvert_exporter": "python",
   "pygments_lexer": "ipython3",
   "version": "3.8.5"
  }
 },
 "nbformat": 4,
 "nbformat_minor": 4
}
