{
 "cells": [
  {
   "cell_type": "code",
   "execution_count": 8,
   "metadata": {},
   "outputs": [
    {
     "name": "stdout",
     "output_type": "stream",
     "text": [
      "enter value in kms: 334\n",
      "334.00 kms is equal to 207.54 miles\n"
     ]
    }
   ],
   "source": [
    "#Write a Python program to convert kilometers into miles\n",
    "\n",
    "kms = float(input('enter value in kms: '))\n",
    "conv_fac = 0.621371\n",
    "miles = kms* conv_fac\n",
    "print('%0.2f kms is equal to %0.2f miles' %(kms, miles))\n"
   ]
  },
  {
   "cell_type": "code",
   "execution_count": 13,
   "metadata": {},
   "outputs": [
    {
     "name": "stdout",
     "output_type": "stream",
     "text": [
      "34.0 degree Celsius is equal to 93.2 degree farhenheit\n"
     ]
    }
   ],
   "source": [
    "#Write a Python program to convert celsius to fahrenheit\n",
    "\n",
    "celsius = 34\n",
    "farhenheit = (celsius * 1.8)+ 32\n",
    "print('%0.1f degree Celsius is equal to %0.1f degree farhenheit' %(celsius, farhenheit))"
   ]
  },
  {
   "cell_type": "code",
   "execution_count": 16,
   "metadata": {},
   "outputs": [
    {
     "name": "stdout",
     "output_type": "stream",
     "text": [
      "enter year: 2012\n",
      "enter month: 2\n",
      "   February 2012\n",
      "Mo Tu We Th Fr Sa Su\n",
      "       1  2  3  4  5\n",
      " 6  7  8  9 10 11 12\n",
      "13 14 15 16 17 18 19\n",
      "20 21 22 23 24 25 26\n",
      "27 28 29\n",
      "\n"
     ]
    }
   ],
   "source": [
    "#Write a Python program to display calendar\n",
    "\n",
    "import calendar\n",
    "yy = int(input('enter year: '))\n",
    "mm = int(input('enter month: '))\n",
    "print(calendar.month(yy,mm))"
   ]
  },
  {
   "cell_type": "code",
   "execution_count": 17,
   "metadata": {},
   "outputs": [
    {
     "name": "stdout",
     "output_type": "stream",
     "text": [
      "The solution are (-0.6-1.1135528725660042j) and (-0.6-1.1135528725660042j)\n"
     ]
    }
   ],
   "source": [
    "#Write a Python program to solve quadratic equation\n",
    "\n",
    "import cmath\n",
    "a = 5\n",
    "b = 6\n",
    "c = 8\n",
    "d = (b**2) - (4*a*c)\n",
    "sol1 = (-b-cmath.sqrt(d))/(2*a)\n",
    "sol2 = (-b-cmath.sqrt(d))/(2*a)\n",
    "print('The solution are {0} and {1}'.format(sol1,sol2))"
   ]
  },
  {
   "cell_type": "code",
   "execution_count": 19,
   "metadata": {},
   "outputs": [
    {
     "name": "stdout",
     "output_type": "stream",
     "text": [
      "before swapping: \n",
      "value of x:  5 and y:  7\n",
      "after swapping: \n",
      "value of x:  7 and y:  5\n"
     ]
    }
   ],
   "source": [
    "#Write a Python program to swap two variables without temp variable\n",
    "\n",
    "x = 5\n",
    "y = 7\n",
    "\n",
    "print('before swapping: ')\n",
    "print('value of x: ', x, 'and y: ',y)\n",
    "x,y = y,x\n",
    "\n",
    "print('after swapping: ')\n",
    "print('value of x: ', x, 'and y: ',y)"
   ]
  },
  {
   "cell_type": "code",
   "execution_count": null,
   "metadata": {},
   "outputs": [],
   "source": []
  }
 ],
 "metadata": {
  "kernelspec": {
   "display_name": "Python 3",
   "language": "python",
   "name": "python3"
  },
  "language_info": {
   "codemirror_mode": {
    "name": "ipython",
    "version": 3
   },
   "file_extension": ".py",
   "mimetype": "text/x-python",
   "name": "python",
   "nbconvert_exporter": "python",
   "pygments_lexer": "ipython3",
   "version": "3.8.5"
  }
 },
 "nbformat": 4,
 "nbformat_minor": 4
}
